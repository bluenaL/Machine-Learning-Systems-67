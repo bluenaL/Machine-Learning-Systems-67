{
 "cells": [
  {
   "cell_type": "markdown",
   "id": "abe628c9",
   "metadata": {},
   "source": [
    "### 1.รหัส ชื่อ และหมู่ของนิสิตในกลุ่ม\n",
    "\n",
    "6710405079 พงศ์วสิษฐ์ เล็กสุวรรณ หมู่ 1\n",
    "\n",
    "6710404994 ธีร์ธวัช ลิ้มแพร่พันธ์ หมู่ 1\n",
    "<p style=\"margin-bottom: 50px;\"></p>\n",
    "\n",
    "---\n"
   ]
  },
  {
   "cell_type": "markdown",
   "id": "17b79de8",
   "metadata": {},
   "source": [
    "\n",
    "### 2.ลิงค์ไปยังข้อมูลที่จะใช้ในระบบต้นแบบ\n",
    "\n",
    "<a href = https://www.kaggle.com/datasets/ryanpartridge01/wild-edible-plants/data>Edible Wild Plant dataset 🌱</a>\n",
    "\n",
    "<a href = https://universe.roboflow.com/joshua-ian-espaola/wild-edible-plants-vkfkl>Wild Edible Plants Computer Vision Project 🌿</a>\n",
    "<p style=\"margin-bottom: 50px;\"></p>\n",
    "\n",
    "---\n",
    "\n",
    "\n"
   ]
  },
  {
   "cell_type": "markdown",
   "id": "b8ee2cfc",
   "metadata": {},
   "source": [
    "\n",
    "### 3.แหล่งที่มา\n",
    "\n",
    "| รายการ         | รายละเอียด                                                                                                                                     |\n",
    "|----------------|--------------------------------------------------------------------------------------------------------------------------------------------------|\n",
    "| **ผู้เผยแพร่**   | [Ryan Partridge](https://www.kaggle.com/ryanpartridge01) (เจ้าของดาต้าเซ็ตใน Kaggle)                                                        |\n",
    "| **ที่มาของข้อมูล** | ข้อมูลเชิงตาราง รวบรวมจากแหล่งข้อมูลทางพฤกษศาสตร์/เอกสารทางวิชาการ และการลงพื้นที่\n",
    "| **ภาพถ่าย**     | หากใช้ชุดรูปภาพเพิ่ม จะมาจาก Open Dataset (ImageNet, PlantCLEF) หรือถ่ายเอง    \n",
    "\n",
    "<p style=\"margin-bottom: 50px;\"></p>\n",
    "\n",
    "\n",
    "| รายการ         | รายละเอียด                                                                                                                                         |\n",
    "|----------------|------------------------------------------------------------------------------------------------------------------------------------------------------|\n",
    "| **ผู้เผยแพร่**   | [Joshua Ian Espaola](https://universe.roboflow.com/joshua-ian-espaola/wild-edible-plants-vkfkl) (เจ้าของดาต้าเซ็ตใน Roboflow)                  |\n",
    "| **ที่มาของข้อมูล** | ข้อมูลภาพถ่ายของพืชกินได้ตามธรรมชาติ โดยรวบรวมจากแหล่งข้อมูลเปิดและการรวบรวมภาคสนาม                                                       |\n",
    "| **ภาพถ่าย**     | มาจาก Open Dataset และ/หรือถ่ายโดยผู้เผยแพร่เอง ผ่านการจัดระเบียบและบรรจุลงในแพลตฟอร์ม Roboflow                                            |\n",
    "\n",
    "\n",
    "<p style=\"margin-bottom: 50px;\"></p>\n",
    "\n",
    "---\n"
   ]
  },
  {
   "cell_type": "markdown",
   "id": "8f5ae5fa",
   "metadata": {},
   "source": [
    "\n",
    "### 4.รูปแบบการจัดเก็บ\n",
    "\n",
    " #### รูปแบบไฟล์:\n",
    "\n",
    "- ข้อมูลตาราง: CSV (wild_edible_plants.csv)\n",
    "\n",
    "- ภาพ: JPG หรือ PNG ในโฟลเดอร์ data/<ชื่อพืช>/<รูป>.jpg\n",
    "\n",
    " #### โครงสร้าง:\n",
    "\n",
    "- CSV: มีคอลัมน์ชื่อพืช (Scientific Name, Common Name), ลักษณะการกินได้, ส่วนที่กินได้, หมายเหตุอื่น ๆ\n",
    "\n",
    "- ภาพ: จัดโฟลเดอร์ตามชื่อพืช ใช้สำหรับ Train โมเดล Classification\n",
    "\n",
    "<p style=\"margin-bottom: 50px;\"></p>\n",
    "\n",
    "---\n"
   ]
  },
  {
   "cell_type": "markdown",
   "id": "bbe51acc",
   "metadata": {},
   "source": [
    "### 5.จำนวนข้อมูล\n",
    "ตารางต้นฉบับ: ประมาณ ~3,500 Record (ขึ้นอยู่กับเวอร์ชัน)\n",
    "\n",
    "ภาพ: อยู่ระหว่างจัดหาเพิ่มเติม คาดว่าจะมีอย่างน้อย 10–50 ภาพต่อชนิดพืช\n",
    "<p style=\"margin-bottom: 50px;\"></p>\n",
    "\n",
    "---"
   ]
  },
  {
   "cell_type": "markdown",
   "id": "848e5cbf",
   "metadata": {},
   "source": [
    "### 6.สิ่งที่ต้องการทำนาย (Target / Label)\n",
    "\n",
    "ชื่อพืชจากภาพ → Target: Plant Name\n",
    "\n",
    "จากนั้นนำชื่อพืชไปแม็พข้อมูลตาราง เพื่อทำนายว่า\n",
    "\n",
    "กินได้หรือไม่ `Edible Label`\n",
    "\n",
    "ส่วนที่กินได้ `Edible Part`\n",
    "\n",
    "<p style=\"margin-bottom: 50px;\"></p>\n",
    "\n",
    "---"
   ]
  },
  {
   "cell_type": "markdown",
   "id": "6432a375",
   "metadata": {},
   "source": [
    "### 7.สิ่งที่ใช้ในการทำนาย (Feature)\n",
    "รูปภาพพืช → สำหรับทำ Image Classification\n",
    "\n",
    "ตารางข้อมูล → สำหรับแสดงข้อมูลประกอบ (กินได้/ไม่ได้ ส่วนไหนกินได้)\n",
    "\n",
    "<p style=\"margin-bottom: 50px;\"></p>\n",
    "\n",
    "---"
   ]
  },
  {
   "cell_type": "markdown",
   "id": "fd1f2720",
   "metadata": {},
   "source": [
    "### 8.ต้องมีการเตรียม/ประมวลผลข้อมูลส่วนไหนก่อนหรือไม่? เพราะอะไร\n",
    "ต้อง จัดการรูปภาพ\n",
    "\n",
    "Resize → ให้มีขนาดเท่ากัน (224x224)\n",
    "\n",
    "Data Augmentation → เพิ่มความหลากหลาย ลด Overfitting\n",
    "\n",
    "ต้อง ทำความสะอาดตารางข้อมูล\n",
    "\n",
    "ตรวจสอบ Missing Values\n",
    "\n",
    "จับคู่ชื่อพืชให้ตรงกันระหว่างภาพกับข้อมูลตาราง\n",
    "<p style=\"margin-bottom: 50px;\"></p>\n",
    "\n",
    "---"
   ]
  },
  {
   "cell_type": "markdown",
   "id": "6126a9a4",
   "metadata": {},
   "source": [
    "### 9.มีข้อมูลที่ไม่น่าจะได้ใช้หรือไม่?\n",
    "บางคอลัมน์ เช่น `หมายเหตุ` หรือ `Reference` ทางวิชาการ อาจไม่ใช้ใน Prototype เพราะไม่จำเป็นต่อการทำนาย\n",
    "\n",
    "<p style=\"margin-bottom: 50px;\"></p>\n",
    "\n",
    "---"
   ]
  },
  {
   "cell_type": "markdown",
   "id": "a12b9b5f",
   "metadata": {},
   "source": [
    "### 10.ข้อมูลควรถูกนำไปจัดเก็บในรูปแบบอื่นหรือไม่?\n",
    "ควรนำตารางข้อมูลไปจัดเก็บในฐานข้อมูล NoSQL (เช่น Firebase) หรือ SQLite เพื่อให้เรียกใช้คู่กับโมเดลได้ง่าย\n",
    "\n",
    "<p style=\"margin-bottom: 50px;\"></p>\n",
    "\n",
    "---"
   ]
  },
  {
   "cell_type": "markdown",
   "id": "b3f1c511",
   "metadata": {},
   "source": [
    "### 11.ประเด็นอื่น ๆ ที่เกี่ยวข้อง\n",
    "อาจต้องจัดทำ Dataset ใหม่ หากข้อมูลภาพไม่ครอบคลุม\n",
    "\n",
    "ต้องพิจารณาเรื่อง สิทธิ์ในภาพ หากนำข้อมูลภาพจากเว็บไซต์อื่น\n",
    "\n",
    "ควรตรวจสอบความแม่นยำโมเดลให้เหมาะสมก่อนนำเสนอ\n",
    "\n",
    "<p style=\"margin-bottom: 50px;\"></p>\n",
    "\n",
    "---"
   ]
  },
  {
   "cell_type": "markdown",
   "id": "bfb0e6c3",
   "metadata": {},
   "source": [
    "### 12.การมีส่วนร่วมของสมาชิกแต่ละคน\n",
    "\n",
    "\n",
    "\n",
    "#### พงศ์วสิษฐ์ เล็กสุวรรณ     \n",
    "    -หาข้อมูลเพิ่มเติมและวิเคราะห์\n",
    "\n",
    "#### ธีร์ธวัช ลิ้มแพร่พันธ์          \n",
    "    -เขียน mark down จดบันทึก                     \n",
    "\n",
    "\n",
    "\n",
    "\n",
    "\n",
    "\n",
    "\n",
    "<p style=\"margin-bottom: 50px;\"></p>\n",
    "\n",
    "---"
   ]
  },
  {
   "cell_type": "markdown",
   "id": "ab6d48c1",
   "metadata": {},
   "source": [
    "### 13.การเปิดเผยการใช้เครื่องมือปัญญาประดิษฐ์\n",
    "ใช้ ChatGPT เพื่อวางแผนโครงงาน, สรุปโครงสร้างไฟล์, ช่วยร่างเอกสาร, ช่วยเขียนโค้ดเบื้องต้น\n",
    "\n",
    "\n",
    "\n",
    "<p style=\"margin-bottom: 50px;\"></p>\n",
    "\n",
    "---"
   ]
  }
 ],
 "metadata": {
  "language_info": {
   "name": "python"
  }
 },
 "nbformat": 4,
 "nbformat_minor": 5
}
